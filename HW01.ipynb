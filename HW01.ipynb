{
 "cells": [
  {
   "cell_type": "markdown",
   "metadata": {},
   "source": [
    "# Computer Vision: Algorithms and Applications\n",
    "(Fall 2019)\n",
    "Problem Set 0\n",
    "\n",
    "This homework is intended to test your knowledge about the major prerequisites for the class. For some\n",
    "problems, you may need to use Google and/or Wikipedia to brush up on topics with which you‟re unfamiliar.\n",
    "You are also encouraged to review the Linear Algebra and Matlab tutorials."
   ]
  },
  {
   "cell_type": "markdown",
   "metadata": {},
   "source": [
    "# 1 Image Manipulation\n",
    "\n",
    "Remember, you can use the MATLAB “doc” function to learn how to use a command (e.g. “doc rgb2gray”).\n",
    "Also, the problems below can be easily solved without writing a single „for‟ loop, if you use matrix math in\n",
    "your MATLAB code (a.k.a. “vectorization”).\n",
    "\n",
    "(a) The provided imageManip.m script reads in the provided u2dark.png photo and converts it to grayscale\n",
    "using rgb2gray. Use the script and your own code to calculate the following statistics: What is the average\n",
    "pixel value of the resulting grayscale image? What are the min and max values? (There are several ways to\n",
    "calculate these quantities in MATLAB. Review the MATLAB tutorial if you need help.)"
   ]
  },
  {
   "cell_type": "code",
   "execution_count": null,
   "metadata": {},
   "outputs": [],
   "source": [
    "image = \"\""
   ]
  }
 ],
 "metadata": {
  "kernelspec": {
   "display_name": "Python 3",
   "language": "python",
   "name": "python3"
  },
  "language_info": {
   "codemirror_mode": {
    "name": "ipython",
    "version": 3
   },
   "file_extension": ".py",
   "mimetype": "text/x-python",
   "name": "python",
   "nbconvert_exporter": "python",
   "pygments_lexer": "ipython3",
   "version": "3.7.1"
  }
 },
 "nbformat": 4,
 "nbformat_minor": 2
}
